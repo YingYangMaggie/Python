{
 "cells": [
  {
   "cell_type": "code",
   "execution_count": 75,
   "metadata": {},
   "outputs": [],
   "source": [
    "import random\n",
    "import numpy as np\n",
    "import pandas as pd\n",
    "\n",
    "from scipy import stats\n",
    "\n",
    "import matplotlib.pyplot as plt\n",
    "get_ipython().run_line_magic('matplotlib', 'inline')\n",
    "\n",
    "import seaborn as sns\n",
    "import itertools\n",
    "from IPython.core.pylabtools import figsize\n",
    "\n",
    "figsize(10, 8)\n",
    "\n",
    "from sklearn.metrics import confusion_matrix, roc_auc_score, precision_recall_curve, average_precision_score, auc, roc_curve\n",
    "# from sklearn.cross_validation import train_test_split\n",
    "from sklearn.model_selection import train_test_split\n",
    "from sklearn.preprocessing import label_binarize\n",
    "from sklearn.multiclass import OneVsRestClassifier\n",
    "from datetime import datetime\n",
    "from matplotlib import pyplot as plt\n",
    "from scipy.stats import ks_2samp\n",
    "\n",
    "pd.set_option('display.max_rows', 500)\n",
    "\n",
    "import warnings\n",
    "warnings.filterwarnings(\"ignore\")\n",
    "\n",
    "def deprecation(message):\n",
    "    warnings.warn(message, DeprecationWarning, stacklevel=2)"
   ]
  },
  {
   "cell_type": "code",
   "execution_count": 33,
   "metadata": {},
   "outputs": [],
   "source": [
    "root_folder = \"//NABDC01SDPRS01.TDBFG.COM/C05173_Share_S_01/TOR1/Cyber-Fraud/Data_Insights/Current Projects/YEASMN3/Model Validation & Performance/Fraud Point/\" \n",
    "Q3_data = pd.read_excel(root_folder + 'Raw Data/Q3 Data/Q3_Merged_Data.xlsx')"
   ]
  },
  {
   "cell_type": "code",
   "execution_count": 72,
   "metadata": {},
   "outputs": [
    {
     "name": "stdout",
     "output_type": "stream",
     "text": [
      "<class 'pandas.core.frame.DataFrame'>\n",
      "RangeIndex: 58172 entries, 0 to 58171\n",
      "Data columns (total 14 columns):\n",
      " #   Column                          Non-Null Count  Dtype         \n",
      "---  ------                          --------------  -----         \n",
      " 0   Session_ID                      58172 non-null  object        \n",
      " 1   CORRELATIONID                   58172 non-null  object        \n",
      " 2   Appid                           58172 non-null  int64         \n",
      " 3   AppDt                           58172 non-null  datetime64[ns]\n",
      " 4   Customer_Logged_IN_AS           58172 non-null  object        \n",
      " 5   FISProfileID                    58172 non-null  int64         \n",
      " 6   Fraud                           58172 non-null  int64         \n",
      " 7   Date                            58168 non-null  datetime64[ns]\n",
      " 8   FRAUDPOINT_DECISION             58168 non-null  object        \n",
      " 9   FRAUDPOINT_SCORE                58168 non-null  float64       \n",
      " 10  unencrypted_condition_attrib_1  58154 non-null  object        \n",
      " 11  YMonth                          58172 non-null  int64         \n",
      " 12  predicted                       58168 non-null  float64       \n",
      " 13  statfraud                       58172 non-null  object        \n",
      "dtypes: datetime64[ns](2), float64(2), int64(4), object(6)\n",
      "memory usage: 6.2+ MB\n"
     ]
    }
   ],
   "source": [
    "Q3_data.info()"
   ]
  },
  {
   "cell_type": "code",
   "execution_count": 19,
   "metadata": {},
   "outputs": [
    {
     "data": {
      "text/html": [
       "<div>\n",
       "<style scoped>\n",
       "    .dataframe tbody tr th:only-of-type {\n",
       "        vertical-align: middle;\n",
       "    }\n",
       "\n",
       "    .dataframe tbody tr th {\n",
       "        vertical-align: top;\n",
       "    }\n",
       "\n",
       "    .dataframe thead th {\n",
       "        text-align: right;\n",
       "    }\n",
       "</style>\n",
       "<table border=\"1\" class=\"dataframe\">\n",
       "  <thead>\n",
       "    <tr style=\"text-align: right;\">\n",
       "      <th></th>\n",
       "      <th>Session_ID</th>\n",
       "      <th>CORRELATIONID</th>\n",
       "      <th>Appid</th>\n",
       "      <th>AppDt</th>\n",
       "      <th>Customer_Logged_IN_AS</th>\n",
       "      <th>FISProfileID</th>\n",
       "      <th>Fraud</th>\n",
       "      <th>Date</th>\n",
       "      <th>FRAUDPOINT_DECISION</th>\n",
       "      <th>FRAUDPOINT_SCORE</th>\n",
       "      <th>unencrypted_condition_attrib_1</th>\n",
       "    </tr>\n",
       "  </thead>\n",
       "  <tbody>\n",
       "    <tr>\n",
       "      <th>0</th>\n",
       "      <td>0037185168b13045b9ffcb3e6470cb</td>\n",
       "      <td>IPR-12861590</td>\n",
       "      <td>3034768</td>\n",
       "      <td>2022-08-10</td>\n",
       "      <td>NewToBank</td>\n",
       "      <td>58757856</td>\n",
       "      <td>1</td>\n",
       "      <td>2022-08-10</td>\n",
       "      <td>pass</td>\n",
       "      <td>542.0</td>\n",
       "      <td>oao_online</td>\n",
       "    </tr>\n",
       "    <tr>\n",
       "      <th>1</th>\n",
       "      <td>00d6437f49b4d7236456a4200efc0c</td>\n",
       "      <td>IPR-12894942</td>\n",
       "      <td>3045762</td>\n",
       "      <td>2022-08-21</td>\n",
       "      <td>NewToBank</td>\n",
       "      <td>62119524</td>\n",
       "      <td>1</td>\n",
       "      <td>2022-08-21</td>\n",
       "      <td>pass</td>\n",
       "      <td>880.0</td>\n",
       "      <td>oao_online</td>\n",
       "    </tr>\n",
       "    <tr>\n",
       "      <th>2</th>\n",
       "      <td>019f7c2b8c36efb63014919404ee81</td>\n",
       "      <td>IPR-12846894</td>\n",
       "      <td>3030787</td>\n",
       "      <td>2022-08-06</td>\n",
       "      <td>NewToBank</td>\n",
       "      <td>62011578</td>\n",
       "      <td>1</td>\n",
       "      <td>2022-08-06</td>\n",
       "      <td>pass</td>\n",
       "      <td>835.0</td>\n",
       "      <td>oao_online</td>\n",
       "    </tr>\n",
       "    <tr>\n",
       "      <th>3</th>\n",
       "      <td>0204ec2903b67e5ec5e4ddef03e865</td>\n",
       "      <td>IPR-12847006</td>\n",
       "      <td>3030838</td>\n",
       "      <td>2022-08-06</td>\n",
       "      <td>NewToBank</td>\n",
       "      <td>13849048</td>\n",
       "      <td>1</td>\n",
       "      <td>2022-08-06</td>\n",
       "      <td>pass</td>\n",
       "      <td>875.0</td>\n",
       "      <td>oao_online</td>\n",
       "    </tr>\n",
       "    <tr>\n",
       "      <th>4</th>\n",
       "      <td>02278e745ba960a7fd25aad76d683a</td>\n",
       "      <td>IPR-12949424</td>\n",
       "      <td>3063765</td>\n",
       "      <td>2022-09-07</td>\n",
       "      <td>NewToBank</td>\n",
       "      <td>62240294</td>\n",
       "      <td>1</td>\n",
       "      <td>2022-09-07</td>\n",
       "      <td>pass</td>\n",
       "      <td>823.0</td>\n",
       "      <td>oao_online</td>\n",
       "    </tr>\n",
       "  </tbody>\n",
       "</table>\n",
       "</div>"
      ],
      "text/plain": [
       "                       Session_ID CORRELATIONID    Appid       AppDt  \\\n",
       "0  0037185168b13045b9ffcb3e6470cb  IPR-12861590  3034768  2022-08-10   \n",
       "1  00d6437f49b4d7236456a4200efc0c  IPR-12894942  3045762  2022-08-21   \n",
       "2  019f7c2b8c36efb63014919404ee81  IPR-12846894  3030787  2022-08-06   \n",
       "3  0204ec2903b67e5ec5e4ddef03e865  IPR-12847006  3030838  2022-08-06   \n",
       "4  02278e745ba960a7fd25aad76d683a  IPR-12949424  3063765  2022-09-07   \n",
       "\n",
       "  Customer_Logged_IN_AS  FISProfileID  Fraud        Date FRAUDPOINT_DECISION  \\\n",
       "0             NewToBank      58757856      1  2022-08-10                pass   \n",
       "1             NewToBank      62119524      1  2022-08-21                pass   \n",
       "2             NewToBank      62011578      1  2022-08-06                pass   \n",
       "3             NewToBank      13849048      1  2022-08-06                pass   \n",
       "4             NewToBank      62240294      1  2022-09-07                pass   \n",
       "\n",
       "   FRAUDPOINT_SCORE unencrypted_condition_attrib_1  \n",
       "0             542.0                     oao_online  \n",
       "1             880.0                     oao_online  \n",
       "2             835.0                     oao_online  \n",
       "3             875.0                     oao_online  \n",
       "4             823.0                     oao_online  "
      ]
     },
     "execution_count": 19,
     "metadata": {},
     "output_type": "execute_result"
    }
   ],
   "source": [
    "Q3_data.head()"
   ]
  },
  {
   "cell_type": "code",
   "execution_count": 45,
   "metadata": {},
   "outputs": [],
   "source": [
    "Q3_data.AppDt = pd.to_datetime(Q3_data.AppDt,format='%Y-%m-%d')\n",
    "Q3_data[\"YMonth\"]=100*Q3_data['AppDt'].dt.year+Q3_data['AppDt'].dt.month"
   ]
  },
  {
   "cell_type": "code",
   "execution_count": 28,
   "metadata": {},
   "outputs": [
    {
     "data": {
      "text/html": [
       "<div>\n",
       "<style scoped>\n",
       "    .dataframe tbody tr th:only-of-type {\n",
       "        vertical-align: middle;\n",
       "    }\n",
       "\n",
       "    .dataframe tbody tr th {\n",
       "        vertical-align: top;\n",
       "    }\n",
       "\n",
       "    .dataframe thead th {\n",
       "        text-align: right;\n",
       "    }\n",
       "</style>\n",
       "<table border=\"1\" class=\"dataframe\">\n",
       "  <thead>\n",
       "    <tr style=\"text-align: right;\">\n",
       "      <th></th>\n",
       "      <th>Session_ID</th>\n",
       "      <th>CORRELATIONID</th>\n",
       "      <th>Appid</th>\n",
       "      <th>AppDt</th>\n",
       "      <th>Customer_Logged_IN_AS</th>\n",
       "      <th>FISProfileID</th>\n",
       "      <th>Fraud</th>\n",
       "      <th>Date</th>\n",
       "      <th>FRAUDPOINT_DECISION</th>\n",
       "      <th>FRAUDPOINT_SCORE</th>\n",
       "      <th>unencrypted_condition_attrib_1</th>\n",
       "      <th>YMonth</th>\n",
       "    </tr>\n",
       "  </thead>\n",
       "  <tbody>\n",
       "    <tr>\n",
       "      <th>0</th>\n",
       "      <td>0037185168b13045b9ffcb3e6470cb</td>\n",
       "      <td>IPR-12861590</td>\n",
       "      <td>3034768</td>\n",
       "      <td>2022-08-10</td>\n",
       "      <td>NewToBank</td>\n",
       "      <td>58757856</td>\n",
       "      <td>1</td>\n",
       "      <td>2022-08-10</td>\n",
       "      <td>pass</td>\n",
       "      <td>542.0</td>\n",
       "      <td>oao_online</td>\n",
       "      <td>202208.0</td>\n",
       "    </tr>\n",
       "    <tr>\n",
       "      <th>1</th>\n",
       "      <td>00d6437f49b4d7236456a4200efc0c</td>\n",
       "      <td>IPR-12894942</td>\n",
       "      <td>3045762</td>\n",
       "      <td>2022-08-21</td>\n",
       "      <td>NewToBank</td>\n",
       "      <td>62119524</td>\n",
       "      <td>1</td>\n",
       "      <td>2022-08-21</td>\n",
       "      <td>pass</td>\n",
       "      <td>880.0</td>\n",
       "      <td>oao_online</td>\n",
       "      <td>202208.0</td>\n",
       "    </tr>\n",
       "    <tr>\n",
       "      <th>2</th>\n",
       "      <td>019f7c2b8c36efb63014919404ee81</td>\n",
       "      <td>IPR-12846894</td>\n",
       "      <td>3030787</td>\n",
       "      <td>2022-08-06</td>\n",
       "      <td>NewToBank</td>\n",
       "      <td>62011578</td>\n",
       "      <td>1</td>\n",
       "      <td>2022-08-06</td>\n",
       "      <td>pass</td>\n",
       "      <td>835.0</td>\n",
       "      <td>oao_online</td>\n",
       "      <td>202208.0</td>\n",
       "    </tr>\n",
       "    <tr>\n",
       "      <th>3</th>\n",
       "      <td>0204ec2903b67e5ec5e4ddef03e865</td>\n",
       "      <td>IPR-12847006</td>\n",
       "      <td>3030838</td>\n",
       "      <td>2022-08-06</td>\n",
       "      <td>NewToBank</td>\n",
       "      <td>13849048</td>\n",
       "      <td>1</td>\n",
       "      <td>2022-08-06</td>\n",
       "      <td>pass</td>\n",
       "      <td>875.0</td>\n",
       "      <td>oao_online</td>\n",
       "      <td>202208.0</td>\n",
       "    </tr>\n",
       "    <tr>\n",
       "      <th>4</th>\n",
       "      <td>02278e745ba960a7fd25aad76d683a</td>\n",
       "      <td>IPR-12949424</td>\n",
       "      <td>3063765</td>\n",
       "      <td>2022-09-07</td>\n",
       "      <td>NewToBank</td>\n",
       "      <td>62240294</td>\n",
       "      <td>1</td>\n",
       "      <td>2022-09-07</td>\n",
       "      <td>pass</td>\n",
       "      <td>823.0</td>\n",
       "      <td>oao_online</td>\n",
       "      <td>202209.0</td>\n",
       "    </tr>\n",
       "  </tbody>\n",
       "</table>\n",
       "</div>"
      ],
      "text/plain": [
       "                       Session_ID CORRELATIONID    Appid       AppDt  \\\n",
       "0  0037185168b13045b9ffcb3e6470cb  IPR-12861590  3034768  2022-08-10   \n",
       "1  00d6437f49b4d7236456a4200efc0c  IPR-12894942  3045762  2022-08-21   \n",
       "2  019f7c2b8c36efb63014919404ee81  IPR-12846894  3030787  2022-08-06   \n",
       "3  0204ec2903b67e5ec5e4ddef03e865  IPR-12847006  3030838  2022-08-06   \n",
       "4  02278e745ba960a7fd25aad76d683a  IPR-12949424  3063765  2022-09-07   \n",
       "\n",
       "  Customer_Logged_IN_AS  FISProfileID  Fraud       Date FRAUDPOINT_DECISION  \\\n",
       "0             NewToBank      58757856      1 2022-08-10                pass   \n",
       "1             NewToBank      62119524      1 2022-08-21                pass   \n",
       "2             NewToBank      62011578      1 2022-08-06                pass   \n",
       "3             NewToBank      13849048      1 2022-08-06                pass   \n",
       "4             NewToBank      62240294      1 2022-09-07                pass   \n",
       "\n",
       "   FRAUDPOINT_SCORE unencrypted_condition_attrib_1    YMonth  \n",
       "0             542.0                     oao_online  202208.0  \n",
       "1             880.0                     oao_online  202208.0  \n",
       "2             835.0                     oao_online  202208.0  \n",
       "3             875.0                     oao_online  202208.0  \n",
       "4             823.0                     oao_online  202209.0  "
      ]
     },
     "execution_count": 28,
     "metadata": {},
     "output_type": "execute_result"
    }
   ],
   "source": [
    "Q3_data.head()"
   ]
  },
  {
   "cell_type": "code",
   "execution_count": 29,
   "metadata": {},
   "outputs": [
    {
     "data": {
      "text/html": [
       "<div>\n",
       "<style scoped>\n",
       "    .dataframe tbody tr th:only-of-type {\n",
       "        vertical-align: middle;\n",
       "    }\n",
       "\n",
       "    .dataframe tbody tr th {\n",
       "        vertical-align: top;\n",
       "    }\n",
       "\n",
       "    .dataframe thead th {\n",
       "        text-align: right;\n",
       "    }\n",
       "</style>\n",
       "<table border=\"1\" class=\"dataframe\">\n",
       "  <thead>\n",
       "    <tr style=\"text-align: right;\">\n",
       "      <th></th>\n",
       "      <th>Appid</th>\n",
       "      <th>FISProfileID</th>\n",
       "      <th>Fraud</th>\n",
       "      <th>FRAUDPOINT_SCORE</th>\n",
       "      <th>YMonth</th>\n",
       "    </tr>\n",
       "  </thead>\n",
       "  <tbody>\n",
       "    <tr>\n",
       "      <th>count</th>\n",
       "      <td>5.817200e+04</td>\n",
       "      <td>5.817200e+04</td>\n",
       "      <td>58172.000000</td>\n",
       "      <td>58168.000000</td>\n",
       "      <td>58168.000000</td>\n",
       "    </tr>\n",
       "    <tr>\n",
       "      <th>mean</th>\n",
       "      <td>3.039351e+06</td>\n",
       "      <td>5.786837e+07</td>\n",
       "      <td>0.092141</td>\n",
       "      <td>683.465840</td>\n",
       "      <td>202207.964431</td>\n",
       "    </tr>\n",
       "    <tr>\n",
       "      <th>std</th>\n",
       "      <td>2.931845e+04</td>\n",
       "      <td>9.502057e+06</td>\n",
       "      <td>0.289227</td>\n",
       "      <td>121.418504</td>\n",
       "      <td>0.825432</td>\n",
       "    </tr>\n",
       "    <tr>\n",
       "      <th>min</th>\n",
       "      <td>2.989640e+06</td>\n",
       "      <td>2.476190e+05</td>\n",
       "      <td>0.000000</td>\n",
       "      <td>421.000000</td>\n",
       "      <td>202207.000000</td>\n",
       "    </tr>\n",
       "    <tr>\n",
       "      <th>25%</th>\n",
       "      <td>3.013462e+06</td>\n",
       "      <td>5.949955e+07</td>\n",
       "      <td>0.000000</td>\n",
       "      <td>597.000000</td>\n",
       "      <td>202207.000000</td>\n",
       "    </tr>\n",
       "    <tr>\n",
       "      <th>50%</th>\n",
       "      <td>3.039084e+06</td>\n",
       "      <td>6.193709e+07</td>\n",
       "      <td>0.000000</td>\n",
       "      <td>690.000000</td>\n",
       "      <td>202208.000000</td>\n",
       "    </tr>\n",
       "    <tr>\n",
       "      <th>75%</th>\n",
       "      <td>3.064824e+06</td>\n",
       "      <td>6.219311e+07</td>\n",
       "      <td>0.000000</td>\n",
       "      <td>780.000000</td>\n",
       "      <td>202209.000000</td>\n",
       "    </tr>\n",
       "    <tr>\n",
       "      <th>max</th>\n",
       "      <td>3.090112e+06</td>\n",
       "      <td>6.241685e+07</td>\n",
       "      <td>1.000000</td>\n",
       "      <td>972.000000</td>\n",
       "      <td>202209.000000</td>\n",
       "    </tr>\n",
       "  </tbody>\n",
       "</table>\n",
       "</div>"
      ],
      "text/plain": [
       "              Appid  FISProfileID         Fraud  FRAUDPOINT_SCORE  \\\n",
       "count  5.817200e+04  5.817200e+04  58172.000000      58168.000000   \n",
       "mean   3.039351e+06  5.786837e+07      0.092141        683.465840   \n",
       "std    2.931845e+04  9.502057e+06      0.289227        121.418504   \n",
       "min    2.989640e+06  2.476190e+05      0.000000        421.000000   \n",
       "25%    3.013462e+06  5.949955e+07      0.000000        597.000000   \n",
       "50%    3.039084e+06  6.193709e+07      0.000000        690.000000   \n",
       "75%    3.064824e+06  6.219311e+07      0.000000        780.000000   \n",
       "max    3.090112e+06  6.241685e+07      1.000000        972.000000   \n",
       "\n",
       "              YMonth  \n",
       "count   58168.000000  \n",
       "mean   202207.964431  \n",
       "std         0.825432  \n",
       "min    202207.000000  \n",
       "25%    202207.000000  \n",
       "50%    202208.000000  \n",
       "75%    202209.000000  \n",
       "max    202209.000000  "
      ]
     },
     "execution_count": 29,
     "metadata": {},
     "output_type": "execute_result"
    }
   ],
   "source": [
    "Q3_data.describe()"
   ]
  },
  {
   "cell_type": "code",
   "execution_count": 88,
   "metadata": {},
   "outputs": [],
   "source": [
    "# create a number between 0 and 1\n",
    "Q3_data['predicted'] = (Q3_data['FRAUDPOINT_SCORE'])/999"
   ]
  },
  {
   "cell_type": "code",
   "execution_count": 89,
   "metadata": {},
   "outputs": [
    {
     "data": {
      "text/html": [
       "<div>\n",
       "<style scoped>\n",
       "    .dataframe tbody tr th:only-of-type {\n",
       "        vertical-align: middle;\n",
       "    }\n",
       "\n",
       "    .dataframe tbody tr th {\n",
       "        vertical-align: top;\n",
       "    }\n",
       "\n",
       "    .dataframe thead th {\n",
       "        text-align: right;\n",
       "    }\n",
       "</style>\n",
       "<table border=\"1\" class=\"dataframe\">\n",
       "  <thead>\n",
       "    <tr style=\"text-align: right;\">\n",
       "      <th></th>\n",
       "      <th>Appid</th>\n",
       "      <th>FISProfileID</th>\n",
       "      <th>Fraud</th>\n",
       "      <th>FRAUDPOINT_SCORE</th>\n",
       "      <th>YMonth</th>\n",
       "      <th>predicted</th>\n",
       "    </tr>\n",
       "  </thead>\n",
       "  <tbody>\n",
       "    <tr>\n",
       "      <th>count</th>\n",
       "      <td>5.817200e+04</td>\n",
       "      <td>5.817200e+04</td>\n",
       "      <td>58172.000000</td>\n",
       "      <td>58168.000000</td>\n",
       "      <td>58172.000000</td>\n",
       "      <td>58168.000000</td>\n",
       "    </tr>\n",
       "    <tr>\n",
       "      <th>mean</th>\n",
       "      <td>3.039351e+06</td>\n",
       "      <td>5.786837e+07</td>\n",
       "      <td>0.092141</td>\n",
       "      <td>683.465840</td>\n",
       "      <td>202207.964433</td>\n",
       "      <td>0.684150</td>\n",
       "    </tr>\n",
       "    <tr>\n",
       "      <th>std</th>\n",
       "      <td>2.931845e+04</td>\n",
       "      <td>9.502057e+06</td>\n",
       "      <td>0.289227</td>\n",
       "      <td>121.418504</td>\n",
       "      <td>0.825404</td>\n",
       "      <td>0.121540</td>\n",
       "    </tr>\n",
       "    <tr>\n",
       "      <th>min</th>\n",
       "      <td>2.989640e+06</td>\n",
       "      <td>2.476190e+05</td>\n",
       "      <td>0.000000</td>\n",
       "      <td>421.000000</td>\n",
       "      <td>202207.000000</td>\n",
       "      <td>0.421421</td>\n",
       "    </tr>\n",
       "    <tr>\n",
       "      <th>25%</th>\n",
       "      <td>3.013462e+06</td>\n",
       "      <td>5.949955e+07</td>\n",
       "      <td>0.000000</td>\n",
       "      <td>597.000000</td>\n",
       "      <td>202207.000000</td>\n",
       "      <td>0.597598</td>\n",
       "    </tr>\n",
       "    <tr>\n",
       "      <th>50%</th>\n",
       "      <td>3.039084e+06</td>\n",
       "      <td>6.193709e+07</td>\n",
       "      <td>0.000000</td>\n",
       "      <td>690.000000</td>\n",
       "      <td>202208.000000</td>\n",
       "      <td>0.690691</td>\n",
       "    </tr>\n",
       "    <tr>\n",
       "      <th>75%</th>\n",
       "      <td>3.064824e+06</td>\n",
       "      <td>6.219311e+07</td>\n",
       "      <td>0.000000</td>\n",
       "      <td>780.000000</td>\n",
       "      <td>202209.000000</td>\n",
       "      <td>0.780781</td>\n",
       "    </tr>\n",
       "    <tr>\n",
       "      <th>max</th>\n",
       "      <td>3.090112e+06</td>\n",
       "      <td>6.241685e+07</td>\n",
       "      <td>1.000000</td>\n",
       "      <td>972.000000</td>\n",
       "      <td>202209.000000</td>\n",
       "      <td>0.972973</td>\n",
       "    </tr>\n",
       "  </tbody>\n",
       "</table>\n",
       "</div>"
      ],
      "text/plain": [
       "              Appid  FISProfileID         Fraud  FRAUDPOINT_SCORE  \\\n",
       "count  5.817200e+04  5.817200e+04  58172.000000      58168.000000   \n",
       "mean   3.039351e+06  5.786837e+07      0.092141        683.465840   \n",
       "std    2.931845e+04  9.502057e+06      0.289227        121.418504   \n",
       "min    2.989640e+06  2.476190e+05      0.000000        421.000000   \n",
       "25%    3.013462e+06  5.949955e+07      0.000000        597.000000   \n",
       "50%    3.039084e+06  6.193709e+07      0.000000        690.000000   \n",
       "75%    3.064824e+06  6.219311e+07      0.000000        780.000000   \n",
       "max    3.090112e+06  6.241685e+07      1.000000        972.000000   \n",
       "\n",
       "              YMonth     predicted  \n",
       "count   58172.000000  58168.000000  \n",
       "mean   202207.964433      0.684150  \n",
       "std         0.825404      0.121540  \n",
       "min    202207.000000      0.421421  \n",
       "25%    202207.000000      0.597598  \n",
       "50%    202208.000000      0.690691  \n",
       "75%    202209.000000      0.780781  \n",
       "max    202209.000000      0.972973  "
      ]
     },
     "execution_count": 89,
     "metadata": {},
     "output_type": "execute_result"
    }
   ],
   "source": [
    "Q3_data.describe()"
   ]
  },
  {
   "cell_type": "code",
   "execution_count": 46,
   "metadata": {
    "scrolled": true
   },
   "outputs": [
    {
     "data": {
      "text/plain": [
       "statfraud\n",
       "202207_0    18701\n",
       "202207_1     2186\n",
       "202208_0    16850\n",
       "202208_1     1617\n",
       "202209_0    17261\n",
       "202209_1     1557\n",
       "dtype: int64"
      ]
     },
     "execution_count": 46,
     "metadata": {},
     "output_type": "execute_result"
    }
   ],
   "source": [
    "Q3_data['statfraud'] = Q3_data[\"YMonth\"].map(str) +'_'+ Q3_data[\"Fraud\"].map(str)\n",
    "Q3_data.groupby('statfraud').size()"
   ]
  },
  {
   "cell_type": "code",
   "execution_count": 62,
   "metadata": {},
   "outputs": [],
   "source": [
    "Q3data=Q3_data.dropna()"
   ]
  },
  {
   "cell_type": "code",
   "execution_count": 123,
   "metadata": {},
   "outputs": [
    {
     "name": "stdout",
     "output_type": "stream",
     "text": [
      "<class 'pandas.core.frame.DataFrame'>\n",
      "Int64Index: 58150 entries, 0 to 58171\n",
      "Data columns (total 14 columns):\n",
      " #   Column                          Non-Null Count  Dtype         \n",
      "---  ------                          --------------  -----         \n",
      " 0   Session_ID                      58150 non-null  object        \n",
      " 1   CORRELATIONID                   58150 non-null  object        \n",
      " 2   Appid                           58150 non-null  int64         \n",
      " 3   AppDt                           58150 non-null  datetime64[ns]\n",
      " 4   Customer_Logged_IN_AS           58150 non-null  object        \n",
      " 5   FISProfileID                    58150 non-null  int64         \n",
      " 6   Fraud                           58150 non-null  int64         \n",
      " 7   Date                            58150 non-null  datetime64[ns]\n",
      " 8   FRAUDPOINT_DECISION             58150 non-null  object        \n",
      " 9   FRAUDPOINT_SCORE                58150 non-null  float64       \n",
      " 10  unencrypted_condition_attrib_1  58150 non-null  object        \n",
      " 11  YMonth                          58150 non-null  int64         \n",
      " 12  predicted                       58150 non-null  float64       \n",
      " 13  statfraud                       58150 non-null  object        \n",
      "dtypes: datetime64[ns](2), float64(2), int64(4), object(6)\n",
      "memory usage: 9.2+ MB\n"
     ]
    }
   ],
   "source": [
    "Q3data.info()\n",
    "Q3data.head()\n",
    "Q3data['predicted'] = 1-(Q3data['FRAUDPOINT_SCORE'])/999"
   ]
  },
  {
   "cell_type": "code",
   "execution_count": 92,
   "metadata": {
    "scrolled": true
   },
   "outputs": [
    {
     "name": "stdout",
     "output_type": "stream",
     "text": [
      "<class 'pandas.core.frame.DataFrame'>\n",
      "RangeIndex: 58172 entries, 0 to 58171\n",
      "Data columns (total 14 columns):\n",
      " #   Column                          Non-Null Count  Dtype         \n",
      "---  ------                          --------------  -----         \n",
      " 0   Session_ID                      58172 non-null  object        \n",
      " 1   CORRELATIONID                   58172 non-null  object        \n",
      " 2   Appid                           58172 non-null  int64         \n",
      " 3   AppDt                           58172 non-null  datetime64[ns]\n",
      " 4   Customer_Logged_IN_AS           58172 non-null  object        \n",
      " 5   FISProfileID                    58172 non-null  int64         \n",
      " 6   Fraud                           58172 non-null  int64         \n",
      " 7   Date                            58168 non-null  datetime64[ns]\n",
      " 8   FRAUDPOINT_DECISION             58168 non-null  object        \n",
      " 9   FRAUDPOINT_SCORE                58168 non-null  float64       \n",
      " 10  unencrypted_condition_attrib_1  58154 non-null  object        \n",
      " 11  YMonth                          58172 non-null  int64         \n",
      " 12  predicted                       58168 non-null  float64       \n",
      " 13  statfraud                       58172 non-null  object        \n",
      "dtypes: datetime64[ns](2), float64(2), int64(4), object(6)\n",
      "memory usage: 6.2+ MB\n"
     ]
    },
    {
     "data": {
      "text/html": [
       "<div>\n",
       "<style scoped>\n",
       "    .dataframe tbody tr th:only-of-type {\n",
       "        vertical-align: middle;\n",
       "    }\n",
       "\n",
       "    .dataframe tbody tr th {\n",
       "        vertical-align: top;\n",
       "    }\n",
       "\n",
       "    .dataframe thead th {\n",
       "        text-align: right;\n",
       "    }\n",
       "</style>\n",
       "<table border=\"1\" class=\"dataframe\">\n",
       "  <thead>\n",
       "    <tr style=\"text-align: right;\">\n",
       "      <th></th>\n",
       "      <th>Session_ID</th>\n",
       "      <th>CORRELATIONID</th>\n",
       "      <th>Appid</th>\n",
       "      <th>AppDt</th>\n",
       "      <th>Customer_Logged_IN_AS</th>\n",
       "      <th>FISProfileID</th>\n",
       "      <th>Fraud</th>\n",
       "      <th>Date</th>\n",
       "      <th>FRAUDPOINT_DECISION</th>\n",
       "      <th>FRAUDPOINT_SCORE</th>\n",
       "      <th>unencrypted_condition_attrib_1</th>\n",
       "      <th>YMonth</th>\n",
       "      <th>predicted</th>\n",
       "      <th>statfraud</th>\n",
       "    </tr>\n",
       "  </thead>\n",
       "  <tbody>\n",
       "    <tr>\n",
       "      <th>0</th>\n",
       "      <td>0037185168b13045b9ffcb3e6470cb</td>\n",
       "      <td>IPR-12861590</td>\n",
       "      <td>3034768</td>\n",
       "      <td>2022-08-10</td>\n",
       "      <td>NewToBank</td>\n",
       "      <td>58757856</td>\n",
       "      <td>1</td>\n",
       "      <td>2022-08-10</td>\n",
       "      <td>pass</td>\n",
       "      <td>542.0</td>\n",
       "      <td>oao_online</td>\n",
       "      <td>202208</td>\n",
       "      <td>0.542543</td>\n",
       "      <td>202208_1</td>\n",
       "    </tr>\n",
       "    <tr>\n",
       "      <th>1</th>\n",
       "      <td>00d6437f49b4d7236456a4200efc0c</td>\n",
       "      <td>IPR-12894942</td>\n",
       "      <td>3045762</td>\n",
       "      <td>2022-08-21</td>\n",
       "      <td>NewToBank</td>\n",
       "      <td>62119524</td>\n",
       "      <td>1</td>\n",
       "      <td>2022-08-21</td>\n",
       "      <td>pass</td>\n",
       "      <td>880.0</td>\n",
       "      <td>oao_online</td>\n",
       "      <td>202208</td>\n",
       "      <td>0.880881</td>\n",
       "      <td>202208_1</td>\n",
       "    </tr>\n",
       "    <tr>\n",
       "      <th>2</th>\n",
       "      <td>019f7c2b8c36efb63014919404ee81</td>\n",
       "      <td>IPR-12846894</td>\n",
       "      <td>3030787</td>\n",
       "      <td>2022-08-06</td>\n",
       "      <td>NewToBank</td>\n",
       "      <td>62011578</td>\n",
       "      <td>1</td>\n",
       "      <td>2022-08-06</td>\n",
       "      <td>pass</td>\n",
       "      <td>835.0</td>\n",
       "      <td>oao_online</td>\n",
       "      <td>202208</td>\n",
       "      <td>0.835836</td>\n",
       "      <td>202208_1</td>\n",
       "    </tr>\n",
       "    <tr>\n",
       "      <th>3</th>\n",
       "      <td>0204ec2903b67e5ec5e4ddef03e865</td>\n",
       "      <td>IPR-12847006</td>\n",
       "      <td>3030838</td>\n",
       "      <td>2022-08-06</td>\n",
       "      <td>NewToBank</td>\n",
       "      <td>13849048</td>\n",
       "      <td>1</td>\n",
       "      <td>2022-08-06</td>\n",
       "      <td>pass</td>\n",
       "      <td>875.0</td>\n",
       "      <td>oao_online</td>\n",
       "      <td>202208</td>\n",
       "      <td>0.875876</td>\n",
       "      <td>202208_1</td>\n",
       "    </tr>\n",
       "    <tr>\n",
       "      <th>4</th>\n",
       "      <td>02278e745ba960a7fd25aad76d683a</td>\n",
       "      <td>IPR-12949424</td>\n",
       "      <td>3063765</td>\n",
       "      <td>2022-09-07</td>\n",
       "      <td>NewToBank</td>\n",
       "      <td>62240294</td>\n",
       "      <td>1</td>\n",
       "      <td>2022-09-07</td>\n",
       "      <td>pass</td>\n",
       "      <td>823.0</td>\n",
       "      <td>oao_online</td>\n",
       "      <td>202209</td>\n",
       "      <td>0.823824</td>\n",
       "      <td>202209_1</td>\n",
       "    </tr>\n",
       "  </tbody>\n",
       "</table>\n",
       "</div>"
      ],
      "text/plain": [
       "                       Session_ID CORRELATIONID    Appid      AppDt  \\\n",
       "0  0037185168b13045b9ffcb3e6470cb  IPR-12861590  3034768 2022-08-10   \n",
       "1  00d6437f49b4d7236456a4200efc0c  IPR-12894942  3045762 2022-08-21   \n",
       "2  019f7c2b8c36efb63014919404ee81  IPR-12846894  3030787 2022-08-06   \n",
       "3  0204ec2903b67e5ec5e4ddef03e865  IPR-12847006  3030838 2022-08-06   \n",
       "4  02278e745ba960a7fd25aad76d683a  IPR-12949424  3063765 2022-09-07   \n",
       "\n",
       "  Customer_Logged_IN_AS  FISProfileID  Fraud       Date FRAUDPOINT_DECISION  \\\n",
       "0             NewToBank      58757856      1 2022-08-10                pass   \n",
       "1             NewToBank      62119524      1 2022-08-21                pass   \n",
       "2             NewToBank      62011578      1 2022-08-06                pass   \n",
       "3             NewToBank      13849048      1 2022-08-06                pass   \n",
       "4             NewToBank      62240294      1 2022-09-07                pass   \n",
       "\n",
       "   FRAUDPOINT_SCORE unencrypted_condition_attrib_1  YMonth  predicted  \\\n",
       "0             542.0                     oao_online  202208   0.542543   \n",
       "1             880.0                     oao_online  202208   0.880881   \n",
       "2             835.0                     oao_online  202208   0.835836   \n",
       "3             875.0                     oao_online  202208   0.875876   \n",
       "4             823.0                     oao_online  202209   0.823824   \n",
       "\n",
       "  statfraud  \n",
       "0  202208_1  \n",
       "1  202208_1  \n",
       "2  202208_1  \n",
       "3  202208_1  \n",
       "4  202209_1  "
      ]
     },
     "execution_count": 92,
     "metadata": {},
     "output_type": "execute_result"
    }
   ],
   "source": [
    "Q3_data.info()\n",
    "\n",
    "Q3_data.describe()\n",
    "Q3_data.head()"
   ]
  },
  {
   "cell_type": "code",
   "execution_count": null,
   "metadata": {},
   "outputs": [],
   "source": []
  },
  {
   "cell_type": "code",
   "execution_count": 124,
   "metadata": {},
   "outputs": [
    {
     "data": {
      "text/plain": [
       "0.5457024001412987"
      ]
     },
     "execution_count": 124,
     "metadata": {},
     "output_type": "execute_result"
    }
   ],
   "source": [
    "m_pattern = []\n",
    "m_columns = ['Month_nb','AUC']\n",
    "list_months = [202207,202208,202209]\n",
    "for index in list_months:\n",
    "    df_m = Q3data.loc[Q3data['YMonth'] == index]\n",
    "    fpr, tpr, thresholds = roc_curve(df_m.Fraud, df_m.predicted)\n",
    "    roc_auc = auc(fpr, tpr)\n",
    "    m_elements = [index, round(roc_auc,4)]\n",
    "    m_pattern.append(m_elements)\n",
    "    m_data = pd.DataFrame(m_pattern, columns=m_columns)\n",
    "  \n",
    "m_data\n",
    "\n",
    "overall_fpr, overall_tpr, overall_thresholds = roc_curve(Q3data.Fraud, Q3data.predicted)\n",
    "auc(overall_fpr, overall_tpr)"
   ]
  },
  {
   "cell_type": "code",
   "execution_count": 125,
   "metadata": {},
   "outputs": [
    {
     "name": "stdout",
     "output_type": "stream",
     "text": [
      "   Month_nb     AUC\n",
      "0    202207  0.5208\n",
      "1    202208  0.5669\n",
      "2    202209  0.5576\n"
     ]
    }
   ],
   "source": [
    "print(m_data)"
   ]
  },
  {
   "cell_type": "code",
   "execution_count": 126,
   "metadata": {},
   "outputs": [
    {
     "data": {
      "text/plain": [
       "KstestResult(statistic=0.06749075523834125, pvalue=1.0346820699562037e-19)"
      ]
     },
     "execution_count": 126,
     "metadata": {},
     "output_type": "execute_result"
    }
   ],
   "source": [
    "m_pattern = []\n",
    "m_columns = ['Month_nb','KS']\n",
    "list_months = [202207,202208,202209]\n",
    "for index in list_months:\n",
    "    df_m = Q3data.loc[Q3data['YMonth'] == index]\n",
    "    ks,pvalue = ks_2samp(df_m[(df_m.Fraud == 0)][\"predicted\"],df_m[(df_m.Fraud == 1)][\"predicted\"])\n",
    "    m_elements = [index, round(ks,4)]\n",
    "    m_pattern.append(m_elements)\n",
    "    m_data = pd.DataFrame(m_pattern, columns=m_columns)\n",
    "  \n",
    "m_data\n",
    "\n",
    "ks_2samp(Q3data[(Q3data.Fraud == 0)][\"predicted\"],Q3data[(Q3data.Fraud == 1)][\"predicted\"])"
   ]
  },
  {
   "cell_type": "code",
   "execution_count": 127,
   "metadata": {},
   "outputs": [
    {
     "name": "stdout",
     "output_type": "stream",
     "text": [
      "   Month_nb      KS\n",
      "0    202207  0.0339\n",
      "1    202208  0.0993\n",
      "2    202209  0.0955\n"
     ]
    }
   ],
   "source": [
    "print(m_data)"
   ]
  },
  {
   "cell_type": "code",
   "execution_count": 122,
   "metadata": {},
   "outputs": [
    {
     "data": {
      "text/plain": [
       "<matplotlib.legend.Legend at 0x21d8b6e0700>"
      ]
     },
     "execution_count": 122,
     "metadata": {},
     "output_type": "execute_result"
    },
    {
     "data": {
      "image/png": "[encoded data removed]",
      "text/plain": [
       "<Figure size 720x720 with 1 Axes>"
      ]
     },
     "metadata": {
      "needs_background": "light"
     },
     "output_type": "display_data"
    }
   ],
   "source": [
    "plt.figure(figsize=(10,10))\n",
    "for x in Q3data.groupby(Q3data.YMonth):\n",
    "    a,b,_= precision_recall_curve(x[1].Fraud,x[1].predicted)\n",
    "    c= round(average_precision_score(x[1].Fraud,x[1].predicted),4)\n",
    "    plt.plot(b,a,label=f'{x[0]}, area={c}')\n",
    "plt.title('PR Curve, Fraudpoint 3.0')\n",
    "plt.xlabel('Recall')\n",
    "plt.ylabel('Precision')\n",
    "plt.legend(fontsize=10,loc='lower left')"
   ]
  },
  {
   "cell_type": "code",
   "execution_count": 128,
   "metadata": {},
   "outputs": [
    {
     "data": {
      "text/plain": [
       "<matplotlib.legend.Legend at 0x21d84ae1520>"
      ]
     },
     "execution_count": 128,
     "metadata": {},
     "output_type": "execute_result"
    },
    {
     "data": {
      "image/png": "[encoded data removed]",
      "text/plain": [
       "<Figure size 720x720 with 1 Axes>"
      ]
     },
     "metadata": {
      "needs_background": "light"
     },
     "output_type": "display_data"
    }
   ],
   "source": [
    "plt.figure(figsize=(10,10))\n",
    "for x in Q3data.groupby(Q3data.YMonth):\n",
    "    a,b,_= roc_curve(x[1].Fraud,x[1].predicted)\n",
    "    c=round(roc_auc_score(x[1].Fraud,x[1].predicted),4)\n",
    "    plt.plot(a,b,label=f'{x[0]}, AUC={c}')\n",
    "plt.plot([0, 1], [0, 1], 'k--')\n",
    "plt.title('ROC Curve, Fraudpoint 3.0')\n",
    "plt.xlabel('False Positive Rate')\n",
    "plt.ylabel('True Positive Rate')\n",
    "plt.legend(fontsize=10,loc='lower right')"
   ]
  },
  {
   "cell_type": "code",
   "execution_count": 129,
   "metadata": {},
   "outputs": [
    {
     "data": {
      "text/plain": [
       "<matplotlib.legend.Legend at 0x21d89fd5d90>"
      ]
     },
     "execution_count": 129,
     "metadata": {},
     "output_type": "execute_result"
    },
    {
     "data": {
      "image/png": "[encoded data removed]",
      "text/plain": [
       "<Figure size 720x720 with 1 Axes>"
      ]
     },
     "metadata": {
      "needs_background": "light"
     },
     "output_type": "display_data"
    }
   ],
   "source": [
    "plt.figure(figsize=(10,10))\n",
    "a,b,_= roc_curve(Q3data.Fraud,Q3data.predicted)\n",
    "c=round(roc_auc_score(Q3data.Fraud,Q3data.predicted),4)\n",
    "plt.plot(a,b,label=f'Overall, AUC={c}')\n",
    "plt.plot([0, 1], [0, 1], 'k--')\n",
    "plt.title('ROC Curve, Fraudpoint 3.0')\n",
    "plt.xlabel('False Positive Rate')\n",
    "plt.ylabel('True Positive Rate')\n",
    "plt.legend(fontsize=10,loc='lower right')"
   ]
  },
  {
   "cell_type": "code",
   "execution_count": null,
   "metadata": {},
   "outputs": [],
   "source": []
  }
 ],
 "metadata": {
  "kernelspec": {
   "display_name": "Python 3",
   "language": "python",
   "name": "python3"
  },
  "language_info": {
   "codemirror_mode": {
    "name": "ipython",
    "version": 3
   },
   "file_extension": ".py",
   "mimetype": "text/x-python",
   "name": "python",
   "nbconvert_exporter": "python",
   "pygments_lexer": "ipython3",
   "version": "3.8.5"
  }
 },
 "nbformat": 4,
 "nbformat_minor": 4
}
